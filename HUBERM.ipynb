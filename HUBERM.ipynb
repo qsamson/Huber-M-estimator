{
  "nbformat": 4,
  "nbformat_minor": 0,
  "metadata": {
    "colab": {
      "name": "HUBERM",
      "provenance": [],
      "collapsed_sections": []
    },
    "kernelspec": {
      "name": "python3",
      "display_name": "Python 3"
    },
    "language_info": {
      "name": "python"
    }
  },
  "cells": [
    {
      "cell_type": "code",
      "execution_count": null,
      "metadata": {
        "id": "hMLYnnsetcxv",
        "colab": {
          "base_uri": "https://localhost:8080/"
        },
        "outputId": "3ab4d511-86b0-483f-d2d5-33cbfa060773"
      },
      "outputs": [
        {
          "output_type": "stream",
          "name": "stderr",
          "text": [
            "/usr/local/lib/python3.7/dist-packages/ipykernel_launcher.py:3: FutureWarning: pandas.util.testing is deprecated. Use the functions in the public API at pandas.testing instead.\n",
            "  This is separate from the ipykernel package so we can avoid doing imports until\n"
          ]
        }
      ],
      "source": [
        "#imported packages\n",
        "#one of the most important package is the Huber function\n",
        "import numpy as np\n",
        "import pandas as pd\n",
        "import pandas.util.testing as tm\n",
        "from statsmodels.robust.scale import huber\n",
        "import array as arr\n",
        "from scipy.stats import cauchy\n",
        "import matplotlib.pyplot as plt\n",
        "from sklearn.metrics import roc_curve,auc"
      ]
    },
    {
      "cell_type": "markdown",
      "source": [
        "**Import random data that is cauchy distributed**"
      ],
      "metadata": {
        "id": "NR6sSd5Otqyo"
      }
    },
    {
      "cell_type": "code",
      "source": [
        "#Uploaded data in the lab will be read from here\n",
        "#The data were splitted into two books ffor diseased and non-diseased\n",
        "df = pd.read_csv('Book1diseased.csv')\n",
        "df1 = pd.read_csv('Book1notdiseased.csv')\n",
        "dfHuberobesity = huber(df['obesity'])\n",
        "df1Huberadiposity = huber(df1['adiposity'])"
      ],
      "metadata": {
        "id": "tPUtzrRXvhEB"
      },
      "execution_count": null,
      "outputs": []
    },
    {
      "cell_type": "markdown",
      "source": [
        "**Huber estimate**"
      ],
      "metadata": {
        "id": "ngnFvnfmuWfZ"
      }
    },
    {
      "cell_type": "code",
      "source": [
        "#df1Huberadiposity \n",
        "#100 set of observation was read from adeposity in Book1diseased\n",
        "dfHuberobesity "
      ],
      "metadata": {
        "colab": {
          "base_uri": "https://localhost:8080/"
        },
        "id": "aaHNimanyuPw",
        "outputId": "56cab0a7-35fc-474b-e0f8-1aac70cd03b4"
      },
      "execution_count": null,
      "outputs": [
        {
          "output_type": "execute_result",
          "data": {
            "text/plain": [
              "(array(25.76577778), array(3.87094617))"
            ]
          },
          "metadata": {},
          "execution_count": 3
        }
      ]
    },
    {
      "cell_type": "code",
      "source": [
        "#This generates the random set of Cauchy data for diseased population\n",
        "rnotdiseased = cauchy.rvs(loc = 25.07837917, scale =1, size=100)\n",
        "rnotdiseased"
      ],
      "metadata": {
        "id": "HS_9f_bgzMzR"
      },
      "execution_count": null,
      "outputs": []
    },
    {
      "cell_type": "code",
      "source": [
        "#random set of Cauchy distributed data for non-diseased population\n",
        "rdiseased = cauchy.rvs(loc = 25.76577778, scale =1, size=100)\n",
        "rdiseased"
      ],
      "metadata": {
        "id": "6YmstpId0xww"
      },
      "execution_count": null,
      "outputs": []
    },
    {
      "cell_type": "code",
      "source": [
        "#Definiing inputs to plot the empirical ROC\n",
        "def plot_roc(y_test,probs):\n",
        "    fpr,tpr,threshold=roc_curve(y_test,probs)\n",
        "    roc_auc=auc(fpr,tpr)\n",
        "    print('ROC AUC=%0.2f'%roc_auc)\n",
        "    plt.plot(fpr,tpr,label='AUC=%0.2f'%roc_auc,color='darkorange')\n",
        "    plt.legend(loc='lower right')\n",
        "    plt.plot([0,1],[0,1],'b--')\n",
        "    plt.xlim([0,1])\n",
        "    plt.ylim([0,1.05])\n",
        "    plt.xlabel('False Positive Rate')\n",
        "    plt.ylabel('True Positive Rate')\n",
        "    plt.show()\n"
      ],
      "metadata": {
        "id": "wzXKUQvK-aRm"
      },
      "execution_count": null,
      "outputs": []
    },
    {
      "cell_type": "code",
      "source": [
        "#packages to read data for the empirical ROC\n",
        "#The train and test packages help slit the data into two part since\n",
        "#Logistic regression becauce we are dealing with a binary classification problem\n",
        "#without logistic regression we cannot fit the empirical\n",
        "#Also, other binary classifiers like random forest can be used\n",
        "import pandas as pd\n",
        "import numpy as np\n",
        "from sklearn.model_selection import train_test_split\n",
        "from sklearn.linear_model import LogisticRegression\n",
        "from sklearn import metrics\n",
        "import matplotlib.pyplot as plt"
      ],
      "metadata": {
        "id": "FLcs7zgWgvsB"
      },
      "execution_count": null,
      "outputs": []
    },
    {
      "cell_type": "code",
      "source": [
        "#This reads the Cauchy random data with the Huber estimate\n",
        "data = pd.read_csv('HUBER.csv')\n",
        "data"
      ],
      "metadata": {
        "id": "RIyo22EhhDGd"
      },
      "execution_count": null,
      "outputs": []
    },
    {
      "cell_type": "code",
      "source": [
        "#definition of the predictor variables and the response variable\n",
        "X = data[['Huber1', 'Huber0']]\n",
        "y = data['Outcome']\n",
        "\n",
        "#split the dataset into training (70%) and testing (30%) sets\n",
        "#This can be changes to (30%) and (70%)\n",
        "#But it is always  best to test with smaller percentage and train with larger\n",
        "X_train,X_test,y_train,y_test = train_test_split(X,y,test_size=0.3,random_state=0) \n",
        "\n",
        "#instantiate the model\n",
        "log_regression = LogisticRegression()\n",
        "\n",
        "#fit the model using the training data\n",
        "log_regression.fit(X_train,y_train)"
      ],
      "metadata": {
        "id": "j1GyvRVqhMbS",
        "colab": {
          "base_uri": "https://localhost:8080/"
        },
        "outputId": "d35ecfe9-06f9-4168-823b-5ce0339b1ae1"
      },
      "execution_count": null,
      "outputs": [
        {
          "output_type": "execute_result",
          "data": {
            "text/plain": [
              "LogisticRegression()"
            ]
          },
          "metadata": {},
          "execution_count": 10
        }
      ]
    },
    {
      "cell_type": "code",
      "source": [
        "#define metrics\n",
        "y_pred_proba = log_regression.predict_proba(X_test)[::,1]\n",
        "fpr, tpr, _ = metrics.roc_curve(y_test,  y_pred_proba)\n",
        "\n",
        "#create ROC curve\n",
        "plt.plot(fpr,tpr)\n",
        "plt.ylabel('True Positive Rate')\n",
        "plt.xlabel('False Positive Rate')\n",
        "plt.grid()\n",
        "plt.show()"
      ],
      "metadata": {
        "id": "1iBb8Tr5iHbz"
      },
      "execution_count": null,
      "outputs": []
    },
    {
      "cell_type": "code",
      "source": [
        "#define metrics\n",
        "import math\n",
        "y_pred_proba = log_regression.predict_proba(X_test)[::,1]\n",
        "fpr, tpr, _ = metrics.roc_curve(y_test,  y_pred_proba)\n",
        "auc = metrics.roc_auc_score(y_test, y_pred_proba)\n",
        "\n",
        "#Bi_Cauchy ROC with HUber estimate\n",
        "const = 0.68739861;\n",
        "t = np.linspace(0,1,20)\n",
        "x = np.pi*t - np.pi/2\n",
        "y = const + np.tan(x)\n",
        "z = 1/2 + 1/np.pi*np.arctan(y)\n",
        "#auc2 = np.trapz(z,t)\n",
        "auc2 = 1/2 + 1/np.pi*np.arctan(const/math.sqrt(2))\n",
        "\n",
        "\n",
        "#create ROC curve\n",
        "h22, = plt.plot(fpr,tpr,color = 'steelblue', label=\"AUC=\"+str(auc))\n",
        "h2, =  plt.plot(fpr,tpr,color = 'steelblue', label=\"Empircal ROC\")\n",
        "plt.title(\"ROC plots\")\n",
        "plt.ylabel('True Positive Rate')\n",
        "plt.xlabel('False Positive Rate')\n",
        "#plt.plot(tpr, np.tan(tpr))\n",
        "h11, = plt.plot(t,z,color = 'darkorange',label=\"AUC=\"+str(auc2))\n",
        "h1, = plt.plot(t,z,color = 'darkorange', label=\"Bi-Cauchy ROC\")\n",
        "\n",
        "leg = plt.legend(handles=[h11,h22], loc='lower right')\n",
        "ax = plt.gca().add_artist(leg)\n",
        "leg = plt.legend(handles=[h2,h1], loc=3, bbox_to_anchor=(0.7,-0.3))\n",
        "plt.grid()\n",
        "plt.show()\n"
      ],
      "metadata": {
        "id": "1F_BucO1i8_r"
      },
      "execution_count": null,
      "outputs": []
    }
  ]
}